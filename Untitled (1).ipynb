{
  "metadata": {
    "language_info": {
      "codemirror_mode": {
        "name": "python",
        "version": 3
      },
      "file_extension": ".py",
      "mimetype": "text/x-python",
      "name": "python",
      "nbconvert_exporter": "python",
      "pygments_lexer": "ipython3",
      "version": "3.8"
    },
    "kernelspec": {
      "name": "python",
      "display_name": "Python (Pyodide)",
      "language": "python"
    }
  },
  "nbformat_minor": 4,
  "nbformat": 4,
  "cells": [
    {
      "cell_type": "markdown",
      "source": "# My Jupyter Notebook on IBM Watson Studio",
      "metadata": {}
    },
    {
      "cell_type": "markdown",
      "source": "**Syed Shahmeer Ali, Civil Engineer | Data Scientist**",
      "metadata": {}
    },
    {
      "cell_type": "markdown",
      "source": "<em>I am interested in Data Science because I love to code and solve complex queries</em>",
      "metadata": {}
    },
    {
      "cell_type": "markdown",
      "source": "### My code is going to show you a series of number from 1-10\n",
      "metadata": {}
    },
    {
      "cell_type": "code",
      "source": "a = range(10)\nfor i in a:\n    print(i)",
      "metadata": {
        "trusted": true
      },
      "execution_count": 5,
      "outputs": [
        {
          "name": "stdout",
          "text": "0\n1\n2\n3\n4\n5\n6\n7\n8\n9\n",
          "output_type": "stream"
        }
      ]
    },
    {
      "cell_type": "markdown",
      "source": "| numbers  | variables  | author |\n| -------- | ---------- | ------ |\n| 0        | a          | shah   |\n| 1        | b          | shah   |\n| 2        | c          | shah   |\n| 3        | d          | shah   |\n| 4        | e          | shah   |\n| 5        | f          | shah   |\n| 6        | g          | shah   |\n| 7        | h          | shah   |\n| 8        | i          | shah   |\n| 9        | j          | shah   |\n| 10       | k          | shah   |\n\n* 0\n* 1\n* 2\n* 3\n* 4\n* 5\n* 6\n* 7\n* 8\n* 9 \n* 10\n\n1. 0\n2. 1\n3. 2\n4. 3\n5. 4\n6. 5\n7. 6\n8. 7\n9. 8\n10. 9\n11. 10\n",
      "metadata": {}
    },
    {
      "cell_type": "markdown",
      "source": "* 0\n* 1\n* 2\n* 3\n* 4\n* 5\n* 6\n* 7\n* 8\n\n",
      "metadata": {
        "jupyter": {
          "source_hidden": true
        }
      }
    },
    {
      "cell_type": "code",
      "source": "",
      "metadata": {},
      "execution_count": null,
      "outputs": []
    }
  ]
}